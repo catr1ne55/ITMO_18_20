{
 "cells": [
  {
   "cell_type": "markdown",
   "metadata": {},
   "source": [
    "Кабанова Е. R42951  \n",
    "Лабораторная работа №5  \n",
    "Нейронные сети. Алгоритм word2vec."
   ]
  },
  {
   "cell_type": "code",
   "execution_count": 3,
   "metadata": {},
   "outputs": [],
   "source": [
    "import numpy as np\n",
    "import matplotlib.pyplot as plt\n",
    "import matplotlib\n",
    "from logprogress import *\n",
    "matplotlib.rc('font', family='DejaVu Sans')"
   ]
  },
  {
   "cell_type": "code",
   "execution_count": 5,
   "metadata": {},
   "outputs": [
    {
     "name": "stdout",
     "output_type": "stream",
     "text": [
      "Список слов: ['Лев', 'Николаевич', 'Толстой', '', 'Анна', 'Каренина', '', 'Мне', 'отмщение', 'и']\n",
      "Всего слов, включая концы предложений: 294906\n"
     ]
    }
   ],
   "source": [
    "import re\n",
    "source_str=open('text.txt', 'r', encoding='UTF-8').read()\n",
    "source_words=re.findall('(\\w+)|\\n\\n+|[.?!]',source_str,re.UNICODE)\n",
    "print('Список слов:',source_words[:10])\n",
    "print('Всего слов, включая концы предложений:',len(source_words))"
   ]
  },
  {
   "cell_type": "code",
   "execution_count": 6,
   "metadata": {},
   "outputs": [
    {
     "name": "stdout",
     "output_type": "stream",
     "text": [
      "Всего предложений: 23543\n",
      "Всего различных слов: 35351\n",
      "Самые часто встречающиеся слова: [('и', 11972), ('не', 6296), ('что', 5786), ('в', 5380), ('он', 4457), ('на', 3456), ('с', 3282), ('она', 2644), ('его', 2549), ('как', 2352)]\n"
     ]
    }
   ],
   "source": [
    "from collections import Counter\n",
    "all_words=Counter(source_words)\n",
    "number_of_sentences=all_words.pop('',None)\n",
    "print('Всего предложений:',number_of_sentences)\n",
    "print('Всего различных слов:',len(all_words))\n",
    "print('Самые часто встречающиеся слова:',all_words.most_common(10))"
   ]
  },
  {
   "cell_type": "code",
   "execution_count": 7,
   "metadata": {},
   "outputs": [
    {
     "name": "stdout",
     "output_type": "stream",
     "text": [
      "Начало текста: [['Лев', 'Николаевич', 'Толстой'], ['Анна', 'Каренина'], ['мне', 'отмщение', 'и', 'аз', 'воздам'], ['часть', 'ПЕРВАЯ'], ['I'], ['все', 'счастливые', 'семьи', 'похожи', 'друг', 'на', 'друга', 'каждая', 'несчастливая', 'семья', 'несчастлива', 'по', 'своему']]\n"
     ]
    }
   ],
   "source": [
    "import itertools\n",
    "sentences=[list(y) for x, y in itertools.groupby(source_words, lambda z: z == '') if not x]\n",
    "for sentence in sentences:\n",
    "    first_word_lower_case=sentence[0].lower()\n",
    "    if first_word_lower_case in all_words: sentence[0]=first_word_lower_case\n",
    "print('Начало текста:',sentences[:6])"
   ]
  },
  {
   "cell_type": "code",
   "execution_count": 8,
   "metadata": {},
   "outputs": [
    {
     "name": "stdout",
     "output_type": "stream",
     "text": [
      "Всего предложений: 21484\n",
      "Всего различных слов: 33534\n",
      "Самые часто встречающиеся слова: [('и', 12906), ('не', 6529), ('что', 6129), ('в', 5719), ('он', 5546), ('на', 3594), ('она', 3432), ('с', 3358), ('я', 3189), ('как', 2678)]\n"
     ]
    }
   ],
   "source": [
    "all_words=Counter([word for sentence in sentences for word in sentence])\n",
    "number_of_sentences=len(sentences)\n",
    "print('Всего предложений:',number_of_sentences)\n",
    "print('Всего различных слов:',len(all_words))\n",
    "print('Самые часто встречающиеся слова:',all_words.most_common(10))"
   ]
  },
  {
   "cell_type": "code",
   "execution_count": 9,
   "metadata": {},
   "outputs": [
    {
     "name": "stdout",
     "output_type": "stream",
     "text": [
      "Число встречающихся минимум 50 раз слов: 560\n"
     ]
    }
   ],
   "source": [
    "least_count=50\n",
    "max_count=10000\n",
    "common_words={k: v for k, v in all_words.items() if v>=least_count and v<=max_count}\n",
    "print('Число встречающихся минимум',least_count,\"раз слов:\",len(common_words))"
   ]
  },
  {
   "cell_type": "code",
   "execution_count": 10,
   "metadata": {},
   "outputs": [
    {
     "name": "stdout",
     "output_type": "stream",
     "text": [
      "ты\n"
     ]
    }
   ],
   "source": [
    "words_sorted_by_frequency=list(map(lambda x: x[0], sorted(common_words.items(), key=lambda x: -x[1])))\n",
    "words_codes=dict([(w,c) for c,w in enumerate(words_sorted_by_frequency)])\n",
    "# эти коллекции можно использовать для сопоставления словам чисел и обратно\n",
    "print(words_sorted_by_frequency[words_codes['ты']])"
   ]
  },
  {
   "cell_type": "code",
   "execution_count": 11,
   "metadata": {},
   "outputs": [
    {
     "name": "stdout",
     "output_type": "stream",
     "text": [
      "Начало закодированного текста: [[15, 347, 4, 506, 27, 391], [311, 1, 332, 29, 2, 6, 2, 67, 550, 461, 1, 0, 70, 282, 6, 84, 2, 550], [219, 11, 46, 173, 478], [15, 1, 47, 2, 67, 1, 4, 292, 103, 157, 235, 64, 44], [311, 0, 31, 245, 224, 173, 0, 16, 231], [392, 27, 8, 6, 41, 483, 320, 40, 321, 94, 88, 80, 542]]\n",
      "Число предложений: 14191\n"
     ]
    }
   ],
   "source": [
    "encoded_text=[[words_codes[word] for word in sentence if word in words_codes] for sentence in sentences]\n",
    "# убираем пустые предложения меньше заданной длины\n",
    "minimal_length=4\n",
    "encoded_text=[sentence for sentence in encoded_text if len(sentence)>=minimal_length]\n",
    "print('Начало закодированного текста:', encoded_text[:6])\n",
    "print('Число предложений:', len(encoded_text))"
   ]
  },
  {
   "cell_type": "code",
   "execution_count": 12,
   "metadata": {},
   "outputs": [
    {
     "name": "stdout",
     "output_type": "stream",
     "text": [
      "Раскодированное начало: [['все', 'друг', 'на', 'друга', 'по', 'своему'], ['жена', 'что', 'муж', 'был', 'в', 'с', 'в', 'их', 'доме', 'мужу', 'что', 'не', 'может', 'жить', 'с', 'ним', 'в', 'доме'], ['положение', 'это', 'уже', 'день', 'всеми'], ['все', 'что', 'нет', 'в', 'их', 'что', 'на', 'люди', 'более', 'между', 'собой', 'чем', 'они'], ['жена', 'не', 'из', 'своих', 'мужа', 'день', 'не', 'было', 'дома'], ['дети', 'по', 'как', 'с', 'ей', 'новое', 'место', 'еще', 'вчера', 'со', 'во', 'время', 'обеда']]\n"
     ]
    }
   ],
   "source": [
    "def decode(txt):\n",
    "    return words_sorted_by_frequency[txt] if isinstance(txt,(int,np.integer)) else list(map(decode, list(txt)))\n",
    "\n",
    "print('Раскодированное начало:', decode(encoded_text[:6]))"
   ]
  },
  {
   "cell_type": "code",
   "execution_count": 13,
   "metadata": {},
   "outputs": [
    {
     "name": "stdout",
     "output_type": "stream",
     "text": [
      "Случайный контекст: ['бы', ['если', 'вы', 'как', 'вы', 'мне']]\n"
     ]
    }
   ],
   "source": [
    "def random_context(text, distance_between_words=5):\n",
    "    random_sentence=text[np.random.randint(0,len(text))]\n",
    "    word_index=np.random.randint(0,len(random_sentence))\n",
    "    word=random_sentence[word_index]\n",
    "    left_context=random_sentence[max(0,word_index-distance_between_words):word_index]\n",
    "    right_context=random_sentence[(word_index+1):min(len(random_sentence),word_index+distance_between_words)]\n",
    "    return word, left_context+right_context\n",
    "\n",
    "print('Случайный контекст:', decode(random_context(encoded_text)))"
   ]
  },
  {
   "cell_type": "code",
   "execution_count": 15,
   "metadata": {},
   "outputs": [],
   "source": [
    "# Функции потерь возвращают пару: значение функции, градиент\n",
    "def loss_function_sq(Dx,y):\n",
    "    delta=Dx-y\n",
    "    return np.dot(delta,delta), delta\n",
    "\n",
    "def loss_function_cr(tx,y):\n",
    "    return -np.sum(tx*np.log(y)), -tx/y"
   ]
  },
  {
   "cell_type": "code",
   "execution_count": 16,
   "metadata": {},
   "outputs": [],
   "source": [
    "def linear_layer(theta, x):\n",
    "    return np.dot(theta, x)\n",
    "\n",
    "\n",
    "def linear_layer_optimize(theta, x):\n",
    "    index, = np.where(x == 1)\n",
    "    return theta[:, index[0]]    \n",
    "    \n",
    "\n",
    "def linear_layer_dx(dx, theta):\n",
    "    return np.dot(dx, theta)\n",
    "\n",
    "def linear_layer_dtheta(dx, x):\n",
    "    return dx[:,None]*x[None,:]"
   ]
  },
  {
   "cell_type": "code",
   "execution_count": 17,
   "metadata": {},
   "outputs": [],
   "source": [
    "# Функции активации возращают пару: значение функции на аргументе, вспомогательные значения.\n",
    "# Вспомогательные значения используется позже для ускорения вычисления градинта.\n",
    "def logistic_function(x):\n",
    "    t=np.exp(-x)\n",
    "    return 1/(1+t), t\n",
    "\n",
    "# Функция для вычисления градиента принимают на вход результат (y,t) вычисления функции активации.\n",
    "def logistic_function_dx(dx, y, t):\n",
    "    return dx*t*y*y"
   ]
  },
  {
   "cell_type": "code",
   "execution_count": 18,
   "metadata": {},
   "outputs": [],
   "source": [
    "def softmax(x):\n",
    "    t=np.exp(-x)\n",
    "    return t/np.sum(t)\n",
    "\n",
    "def softmax_dx(dx,y):\n",
    "    # y=softmax(x)\n",
    "    w=y*dx\n",
    "    return y*np.sum(w)-w"
   ]
  },
  {
   "cell_type": "code",
   "execution_count": 19,
   "metadata": {},
   "outputs": [
    {
     "name": "stdout",
     "output_type": "stream",
     "text": [
      "Число слов в случайном контексте: 8\n"
     ]
    }
   ],
   "source": [
    "dimensionality=len(words_sorted_by_frequency)\n",
    "\n",
    "def context_to_vector(context):\n",
    "    result=np.zeros(dimensionality)\n",
    "    for word in context: result[word]+=1./len(context)\n",
    "    return result \n",
    "\n",
    "print(\"Число слов в случайном контексте:\", np.sum(0!=context_to_vector(random_context(encoded_text)[1])))"
   ]
  },
  {
   "cell_type": "code",
   "execution_count": 20,
   "metadata": {},
   "outputs": [
    {
     "name": "stdout",
     "output_type": "stream",
     "text": [
      "Wall time: 1 ms\n"
     ]
    },
    {
     "data": {
      "image/png": "[encoded data removed]",
      "text/plain": [
       "<Figure size 432x288 with 1 Axes>"
      ]
     },
     "metadata": {
      "needs_background": "light"
     },
     "output_type": "display_data"
    }
   ],
   "source": [
    "def neural_network(A,B,x):\n",
    "    return softmax(linear_layer(B, linear_layer(A, x)))[0]\n",
    "\n",
    "def loss(A, B, x, tx, return_grad=True):\n",
    "    z3=linear_layer(A, x)\n",
    "    z2=linear_layer(B, z3)\n",
    "    z1=softmax(z2)\n",
    "    R,dz1=loss_function_cr(tx, z1)\n",
    "    if not return_grad: return R\n",
    "    dz2=softmax_dx(dz1, z1)\n",
    "    dB=linear_layer_dtheta(dz2, z3)\n",
    "    dz3=linear_layer_dx(dz2, B)\n",
    "    dA=linear_layer_dtheta(dz3, x)\n",
    "    return R, dA, dB    \n",
    "\n",
    "def grad(A, B, x, tx, return_grad=True):\n",
    "    z3=linear_layer(A, x)\n",
    "    z2=linear_layer(B, z3)\n",
    "    z1=softmax(z2)\n",
    "    R,dz1=loss_function_cr(tx, z1)\n",
    "    if not return_grad: return R\n",
    "    dz2=softmax_dx(dz1, z1)\n",
    "    dz3=linear_layer_dx(dz2, B)\n",
    "    dx=linear_layer_dx(dz3, A)\n",
    "    return R, dx\n",
    "\n",
    "dim=55\n",
    "x=np.random.rand(dim)\n",
    "t=np.random.rand(dim)\n",
    "A=np.random.rand(dim, dim)\n",
    "B=np.random.rand(dim, dim)\n",
    "DA=np.random.rand(dim, dim)\n",
    "DB=np.random.rand(dim, dim)*0\n",
    "%time R,dA,dB=loss(A,B,x,t)\n",
    "derror=np.sum(DA*dA)+np.sum(DB*dB)\n",
    "epsilon=np.logspace(-8,-1,10)\n",
    "error=np.empty(len(epsilon))\n",
    "for n in range(len(epsilon)):\n",
    "    error[n]=loss(A+epsilon[n]*DA,B+epsilon[n]*DB,x,t,return_grad=False)-R-derror*epsilon[n]\n",
    "plt.loglog(epsilon, np.abs(error), '-k')\n",
    "plt.loglog(epsilon, epsilon*epsilon, '--r')\n",
    "plt.xlabel(\"Argument increment\")\n",
    "plt.ylabel(\"Error\")\n",
    "plt.legend(['Experiment','Prediction'],loc=4)\n",
    "plt.show()"
   ]
  },
  {
   "cell_type": "code",
   "execution_count": 21,
   "metadata": {},
   "outputs": [],
   "source": [
    "def make_batch(text, size=300):\n",
    "    C=[]; W=[]\n",
    "    for _ in range(size):\n",
    "        word, context=random_context(text)\n",
    "        W.append(context_to_vector([word]))\n",
    "        C.append(context_to_vector(context))\n",
    "    return W, C\n",
    "\n",
    "def train_on_batch(A, B, batch, number_of_steps=3, step_size=5):\n",
    "    batch_size=len(batch[0])\n",
    "    history=[]\n",
    "    for _ in range(number_of_steps):\n",
    "        dA=np.zeros(A.shape); dB=np.zeros(B.shape); \n",
    "        error=0\n",
    "        for W,C in zip(*batch):\n",
    "            R,DA,DB=loss(A,B,W,C)\n",
    "            error+=R; dA+=DA; dB+=DB\n",
    "        A-=step_size/batch_size*dA\n",
    "        B-=step_size/batch_size*dB\n",
    "        history.append(error/batch_size)\n",
    "    return history\n",
    "\n",
    "def train_network(A, B, text, test=None, number_of_steps=1000, debug=False):\n",
    "    report_each=number_of_steps/10\n",
    "    history=[]\n",
    "    if not test is None: \n",
    "        print(\"Initial error {}\".format(test_network(A, B, test_text)))\n",
    "    try:\n",
    "        for n in log_progress(range(1,number_of_steps+1),name='Batch'):\n",
    "            error=train_on_batch(A, B, make_batch(text))\n",
    "            if debug: print(n,\":\",error[-1])\n",
    "            if not test is None and n%report_each==0: \n",
    "                print(\"Epoch {}, generalization error {}\".format(n, test_network(A, B, test_text)))\n",
    "            history.extend(error)\n",
    "    except KeyboardInterrupt:\n",
    "        pass\n",
    "    return history\n",
    "\n",
    "def test_network(A, B, text, number_of_samples=1000):\n",
    "    error=0\n",
    "    for _ in range(number_of_samples):\n",
    "        word, context=random_context(text)\n",
    "        W=context_to_vector([word])\n",
    "        C=context_to_vector(context)\n",
    "        error+=loss(A,B,W,C,return_grad=False)\n",
    "    return error/number_of_samples"
   ]
  },
  {
   "cell_type": "code",
   "execution_count": 22,
   "metadata": {},
   "outputs": [],
   "source": [
    "ratio=0.9\n",
    "train_text=encoded_text[:int(ratio*len(encoded_text))]\n",
    "test_text=encoded_text[int(ratio*len(encoded_text)):]\n",
    "features=50\n",
    "A=np.random.rand(features,dimensionality)\n",
    "B=np.random.rand(dimensionality,features)"
   ]
  },
  {
   "cell_type": "code",
   "execution_count": 23,
   "metadata": {},
   "outputs": [
    {
     "name": "stdout",
     "output_type": "stream",
     "text": [
      "Initial error 6.945078574293238\n"
     ]
    },
    {
     "data": {
      "application/vnd.jupyter.widget-view+json": {
       "model_id": "79abeb7967c84c7597f01edd9c2778c8",
       "version_major": 2,
       "version_minor": 0
      },
      "text/plain": [
       "VBox(children=(HTML(value=''), IntProgress(value=0, max=1000)))"
      ]
     },
     "metadata": {},
     "output_type": "display_data"
    },
    {
     "name": "stdout",
     "output_type": "stream",
     "text": [
      "Epoch 100, generalization error 5.343850026913075\n",
      "Epoch 200, generalization error 5.404389960182165\n",
      "Epoch 300, generalization error 5.312741398114064\n",
      "Epoch 400, generalization error 5.289856778576977\n",
      "Epoch 500, generalization error 5.28731235328834\n",
      "Epoch 600, generalization error 5.337358421308595\n",
      "Epoch 700, generalization error 5.284289554434118\n",
      "Epoch 800, generalization error 5.2600099179222015\n",
      "Epoch 900, generalization error 5.274206186906656\n",
      "Epoch 1000, generalization error 5.218489901983082\n",
      "Wall time: 4min 59s\n"
     ]
    },
    {
     "data": {
      "image/png": "[encoded data removed]",
      "text/plain": [
       "<Figure size 432x288 with 1 Axes>"
      ]
     },
     "metadata": {
      "needs_background": "light"
     },
     "output_type": "display_data"
    }
   ],
   "source": [
    "%time history=train_network(A, B, train_text, test=test_text)\n",
    "plt.plot(history,',')\n",
    "plt.xlabel(\"Training step\")\n",
    "plt.ylabel(\"Error\")\n",
    "plt.show()"
   ]
  },
  {
   "cell_type": "code",
   "execution_count": 24,
   "metadata": {},
   "outputs": [],
   "source": [
    "def word2vec(B, n):\n",
    "    return B[n,:]\n",
    "\n",
    "def similar_words(B, vec):\n",
    "    dist=np.sum((B-vec[None,:])**2, axis=1)\n",
    "    return sorted(enumerate(dist), key=lambda x: x[1])\n",
    "\n",
    "def distance_matrix(B):\n",
    "    return np.sum((B[:,:,None]-B[:,None,:])**2, axis=0)"
   ]
  },
  {
   "cell_type": "code",
   "execution_count": 25,
   "metadata": {},
   "outputs": [
    {
     "name": "stdout",
     "output_type": "stream",
     "text": [
      "['не', 'что', 'в', 'он', 'на', 'она', 'с', 'я', 'как', 'его', 'но', 'это', 'то', 'к', 'ее', 'все', 'было', 'так', 'сказал', 'а', 'же', 'ему', 'о', 'за', 'Левин', 'только', 'ты', 'по', 'у', 'был', 'когда', 'из', 'сказала', 'для', 'бы', 'теперь', 'от', 'да', 'вы', 'была', 'еще', 'ей', 'мне', 'Кити', 'они', 'него', 'уже', 'нет', 'очень', 'быть', 'меня', 'чтобы', 'Вронский', 'этого', 'себя', 'Анна', 'себе', 'были', 'ни', 'если', 'ничего', 'того', 'ну', 'том', 'чем', 'ней', 'Алексей', 'их', 'Степан', 'Аркадьич', 'может', 'Александрович', 'вот', 'есть', 'тем', 'надо', 'ли', 'опять', 'или', 'потому', 'время', 'мог', 'говорил', 'будет', 'ним', 'нее', 'мы', 'до', 'во', 'руку', 'Долли', 'эти', 'которые', 'всегда', 'со', 'этом', 'раз', 'лицо', 'сказать', 'этот', 'вас', 'дело', 'Левина', 'более', 'вдруг', 'свою', 'после', 'который', 'при', 'больше', 'своей', 'без', 'знал', 'где', 'никогда', 'потом', 'жизни', 'говорить', 'хорошо', 'знаю', 'которое', 'об', 'даже', 'пред', 'хотел', 'тебя', 'Сергей', 'один', 'нужно', 'человек', 'прежде', 'нельзя', 'тебе', 'могу', 'видел', 'глаза', 'чтоб', 'всех', 'тотчас', 'им', 'чувствовал', 'про', 'чего', 'Вронского', 'нибудь', 'одно', 'под', 'вам', 'своего', 'свое', 'могла', 'тут', 'сам', 'Иванович', 'лучше', 'думал', 'глядя', 'между', 'говорила', 'тоже', 'вместе', 'отвечал', 'будто', 'нему', 'улыбаясь', 'которая', 'улыбкой', 'свои', 'княгиня', 'слова', 'совершенно', 'хотя', 'жизнь', 'день', 'эта', 'казалось', 'Левину', 'чувство', 'стал', 'этим', 'эту', 'можно', 'уж', 'там', 'делать', 'своим', 'спросил', 'нынче', 'хотела', 'разговор', 'очевидно', 'кто', 'всего', 'несмотря', 'которого', 'которой', 'особенно', 'над', 'другой', 'Александровна', 'руки', 'голову', 'два', 'мысли', 'тому', 'Дарья', 'сделать', 'совсем', 'ах', 'минуту', 'кроме', 'которую', 'них', 'видеть', 'давно', 'одна', 'много', 'нем', 'несколько', 'положение', 'ведь', 'знала', 'человека', 'сама', 'мужа', 'этой', 'весело', 'тех', 'Алексея', 'ж', 'те', 'дома', 'должен', 'всем', 'таки', 'собой', 'мать', 'пошел', 'Анны', 'этих', 'ехать', 'зачем', 'глазами', 'сейчас', 'вопрос', 'своих', 'всю', 'Александровича', 'своем', 'выражение', 'тогда', 'лица', 'людей', 'брата', 'этому', 'такое', 'здесь', 'понимаю', 'думать', 'князь', 'самое', 'почти', 'кажется', 'свой', 'которых', 'мысль', 'отвечала', 'видела', 'думала', 'понял', 'быстро', 'стало', 'вышел', 'говорили', 'именно', 'особенности', 'тот', 'графиня', 'Бетси', 'правда', 'которым', 'отчего', 'жить', 'любви', 'дела', 'куда', 'нас', 'голос', 'душе', 'мой', 'весь', 'разве', 'люди', 'продолжал', 'котором', 'подумал', 'ясно', 'три', 'через', 'рад', 'прямо', 'слишком', 'знаешь', 'нею', 'приехал', 'вошел', 'точно', 'любовь', 'хочу', 'письмо', 'Анне', 'жена', 'почему', 'хотелось', 'детей', 'той', 'одного', 'ту', 'брат', 'должно', 'место', 'вчера', 'сколько', 'своею', 'подошел', 'понять', 'знать', 'Варенька', 'положения', 'сделал', 'оно', 'говорит', 'муж', 'невольно', 'какой', 'знает', 'буду', 'доктор', 'взгляд', 'долго', 'Степана', 'женщина', 'ужасно', 'двери', 'Константин', 'просто', 'сына', 'друг', 'Аркадьича', 'спросила', 'начал', 'какое', 'минуты', 'лице', 'думаю', 'стороны', 'часто', 'матери', 'жене', 'других', 'такой', 'жены', 'вся', 'любил', 'кого', 'сел', 'дверь', 'назад', 'первый', 'стала', 'домой', 'вперед', 'Облонский', 'чувствуя', 'иметь', 'чувствовала', 'пожалуйста', 'разумеется', 'смотрел', 'та', 'б', 'скоро', 'руками', 'сердце', 'завтра', 'вижу', 'главное', 'какие', 'остановился', 'проговорил', 'Свияжский', 'своему', 'дети', 'увидав', 'лошадь', 'стараясь', 'нам', 'люблю', 'никто', 'почувствовал', 'рада', 'пор', 'ними', 'зная', 'чувства', 'ко', 'хуже', 'любить', 'вышла', 'другое', 'знаете', 'одной', 'должна', 'дня', 'времени', 'говорю', 'Вронскому', 'Сережа', 'Весловский', 'рукой', 'жену', 'какая', 'обратился', 'своими', 'жалко', 'равно', 'Лидия', 'желая', 'прибавил', 'смотреть', 'напротив', 'имел', 'говорят', 'увидал', 'слов', 'решительно', 'встал', 'верно', 'ею', 'Ивановна', 'женщины', 'платье', 'две', 'слышал', 'Москве', 'испытывал', 'Николай', 'Анну', 'лошади', 'ребенка', 'души', 'глаз', 'вполне', 'подле', 'деньги', 'головой', 'глазах', 'каждый', 'хочешь', 'другие', 'взял', 'мужу', 'самые', 'легко', 'комнату', 'мало', 'голосом', 'право', 'хочет', 'Вронским', 'поняла', 'оттого', 'любит', 'брату', 'счастье', 'столь', 'никак', 'положении', 'всеми', 'действительно', 'улыбнулся', 'слово', 'тяжело', 'новое', 'наконец', 'смотрела', 'дурно', 'стоял', 'оба', 'свете', 'ноги', 'понимал', 'отношения', 'лицом', 'сделала', 'должны', 'шел', 'указывая', 'комнаты', 'двух', 'идти', 'поспешно', 'смерти', 'мое', 'поехал', 'будут', 'друга', 'женой', 'бог', 'неужели', 'прекрасно', 'против', 'самом', 'народ', 'чуть', 'подумала', 'бога', 'слезы', 'делал', 'показалось', 'разговора', 'каким', 'деле', 'можешь', 'подробности', 'столько', 'молодой', 'моя', 'невозможно', 'одну', 'продолжала', 'сначала', 'неприятно', 'взглянул', 'взглядом', 'лет', 'любила', 'начала', 'могли', 'дом', 'деревне', 'прибавила', 'обеда', 'могло', 'хоть', 'мной', 'имеет', 'слушал', 'первое', 'Катавасов', 'доме', 'могут', 'другого', 'обращаясь', 'свет', 'радости', 'вообще', 'обратилась', 'лошадей', 'старик']\n"
     ]
    }
   ],
   "source": [
    "print(words_sorted_by_frequency)"
   ]
  },
  {
   "cell_type": "code",
   "execution_count": 26,
   "metadata": {},
   "outputs": [
    {
     "name": "stdout",
     "output_type": "stream",
     "text": [
      "Анна : Анна/0 Долли/3 она/4 мужа/5 его/5 Кити/5 ребенка/5 княгиня/5 сына/5 теперь/5 \n",
      "Степан : Степан/0 Аркадьич/6 Весловский/7 невольно/7 весело/7 Свияжский/7 он/7 весь/8 через/8 брата/8 \n",
      "давно : давно/0 всегда/6 теперь/6 вперед/6 как/6 хочет/6 дома/6 знаю/6 муж/6 сам/6 \n",
      "много : много/0 муж/3 времени/4 человека/4 этот/4 действительно/4 теперь/4 дома/4 после/4 часто/4 \n",
      "руки : руки/0 лицо/3 выражение/4 быстро/4 голову/4 лица/4 ноги/4 своего/4 под/4 несмотря/4 \n"
     ]
    }
   ],
   "source": [
    "def show_similar(B, vec, count=10):\n",
    "    for code,freq in similar_words(B, vec)[:count]:\n",
    "        print(\"{}/{}\".format(decode(code),int(freq)),end=\" \")\n",
    "\n",
    "words_to_compare=['Анна','Степан','давно','много','руки']\n",
    "for word in words_to_compare:\n",
    "    print(word,\":\",end=\" \")\n",
    "    show_similar(B, word2vec(B, words_codes[word]))\n",
    "    print()"
   ]
  },
  {
   "cell_type": "code",
   "execution_count": 27,
   "metadata": {},
   "outputs": [
    {
     "name": "stdout",
     "output_type": "stream",
     "text": [
      "Как 'Анна' относится к 'Степан', также к 'она' относятся следующие слова в порядке убывания уверенности:\n",
      "Степан/4 Аркадьич/9 он/9 весь/11 Левин/12 невольно/12 нем/12 Вронский/12 говорят/12 за/12 \n",
      "\n",
      "Как 'Степан' относится к 'Анна', также к 'он' относятся следующие слова в порядке убывания уверенности:\n",
      "Анна/7 она/9 его/12 мужа/12 Кити/12 говорила/12 знала/13 чтобы/13 это/13 могла/13 \n",
      "\n"
     ]
    }
   ],
   "source": [
    "# Попробуем проанализировать отношения слов\n",
    "def show_relative(n1,n2,n3):\n",
    "    w1=words_codes[n1]; v1=word2vec(B, w1)\n",
    "    w2=words_codes[n2]; v2=word2vec(B, w2)\n",
    "    w3=words_codes[n3]; v3=word2vec(B, w3)\n",
    "    v4=v2-v1+v3\n",
    "    print(\"Как '{}' относится к '{}', также к '{}' относятся следующие слова в порядке убывания уверенности:\".format(decode(w1),decode(w2),decode(w3)))\n",
    "    show_similar(B, v4)\n",
    "    print(\"\\n\")\n",
    "\n",
    "show_relative('Анна','Степан','она')\n",
    "show_relative('Степан','Анна','он')"
   ]
  },
  {
   "cell_type": "code",
   "execution_count": 28,
   "metadata": {},
   "outputs": [
    {
     "data": {
      "image/png": "[encoded data removed]",
      "text/plain": [
       "<Figure size 432x288 with 1 Axes>"
      ]
     },
     "metadata": {
      "needs_background": "light"
     },
     "output_type": "display_data"
    }
   ],
   "source": [
    "# Выведем все вектора слов\n",
    "plt.imshow(np.abs(B.T), interpolation='none')\n",
    "plt.show()"
   ]
  },
  {
   "cell_type": "code",
   "execution_count": 29,
   "metadata": {},
   "outputs": [
    {
     "data": {
      "image/png": "[encoded data removed]",
      "text/plain": [
       "<Figure size 432x288 with 1 Axes>"
      ]
     },
     "metadata": {
      "needs_background": "light"
     },
     "output_type": "display_data"
    }
   ],
   "source": [
    "# Выведем матрицу расстояний между словами\n",
    "plt.imshow(distance_matrix(B), interpolation='none')\n",
    "plt.show()"
   ]
  },
  {
   "cell_type": "code",
   "execution_count": 30,
   "metadata": {},
   "outputs": [
    {
     "data": {
      "image/png": "[encoded data removed]",
      "text/plain": [
       "<Figure size 432x288 with 1 Axes>"
      ]
     },
     "metadata": {
      "needs_background": "light"
     },
     "output_type": "display_data"
    }
   ],
   "source": [
    "n1='он'; n2='она'\n",
    "ns=['Анна','Степан','жена','хорошо','руки']\n",
    "w1=words_codes[n1]; w2=words_codes[n2];\n",
    "v1=word2vec(B, w1); v2=word2vec(B, w2); \n",
    "p1=np.dot(B, v1); p2=np.dot(B, v2); \n",
    "fig = plt.figure()\n",
    "ax = fig.add_subplot(111)\n",
    "ax.plot(p1,p2,'.')\n",
    "for n in ns:\n",
    "    w=words_codes[n]\n",
    "    ax.plot(p1[w],p2[w],'.r')\n",
    "    ax.annotate(n, xy=(p1[w],p2[w]),color='r')\n",
    "plt.xlabel(n1); plt.ylabel(n2);\n",
    "plt.show()"
   ]
  },
  {
   "cell_type": "code",
   "execution_count": 82,
   "metadata": {},
   "outputs": [],
   "source": [
    "import gensim\n",
    "import multiprocessing\n",
    "\n",
    "model = gensim.models.Word2Vec(\n",
    "        sg=0,\n",
    "        min_count=3,\n",
    "        window=5,\n",
    "        size=200, \n",
    "        negative=3,\n",
    "        hs=1,\n",
    "        workers=multiprocessing.cpu_count())"
   ]
  },
  {
   "cell_type": "code",
   "execution_count": 83,
   "metadata": {},
   "outputs": [
    {
     "data": {
      "text/plain": [
       "(933885, 1356815)"
      ]
     },
     "execution_count": 83,
     "metadata": {},
     "output_type": "execute_result"
    }
   ],
   "source": [
    "model.build_vocab(sentences)\n",
    "model.train(sentences, epochs=model.epochs, total_examples=model.corpus_count)"
   ]
  },
  {
   "cell_type": "code",
   "execution_count": 84,
   "metadata": {},
   "outputs": [
    {
     "name": "stdout",
     "output_type": "stream",
     "text": [
      "['Анна', 'Каренина', 'мне', 'и', 'часть', 'I', 'все', 'счастливые', 'семьи', 'похожи']\n"
     ]
    }
   ],
   "source": [
    "words = list(model.wv.vocab)\n",
    "print(words[:10])"
   ]
  },
  {
   "cell_type": "code",
   "execution_count": 89,
   "metadata": {},
   "outputs": [
    {
     "name": "stderr",
     "output_type": "stream",
     "text": [
      "C:\\Users\\806607\\Miniconda3\\lib\\site-packages\\ipykernel_launcher.py:7: DeprecationWarning: Call to deprecated `__getitem__` (Method will be removed in 4.0.0, use self.wv.__getitem__() instead).\n",
      "  import sys\n"
     ]
    },
    {
     "data": {
      "image/png": "[encoded data removed]",
      "text/plain": [
       "<Figure size 800x800 with 1 Axes>"
      ]
     },
     "metadata": {
      "needs_background": "light"
     },
     "output_type": "display_data"
    }
   ],
   "source": [
    "from sklearn.decomposition import PCA\n",
    "from matplotlib import pyplot as plt\n",
    "from matplotlib.pyplot import figure\n",
    "\n",
    "figure(num=None, figsize=(10, 10), dpi=80)\n",
    "\n",
    "X = model[model.wv.vocab]\n",
    "X = X[:10]\n",
    "pca = PCA(n_components=2)\n",
    "coords = pca.fit_transform(X)\n",
    "plt.scatter(coords[:, 0], coords[:, 1])\n",
    "words = list(model.wv.vocab)\n",
    "words = words[:10]\n",
    "\n",
    "for i, word in enumerate(words):\n",
    "    plt.annotate(word, xy=(coords[i, 0], coords[i, 1]))\n",
    "\n",
    "plt.show()"
   ]
  },
  {
   "cell_type": "code",
   "execution_count": 87,
   "metadata": {},
   "outputs": [
    {
     "name": "stdout",
     "output_type": "stream",
     "text": [
      "[('Долли', 0.9267134666442871), ('Кити', 0.9083345532417297), ('княгиня', 0.9075993895530701), ('Бетси', 0.8977770805358887), ('она', 0.8587820529937744)]\n"
     ]
    },
    {
     "name": "stderr",
     "output_type": "stream",
     "text": [
      "C:\\Users\\806607\\Miniconda3\\lib\\site-packages\\ipykernel_launcher.py:1: DeprecationWarning: Call to deprecated `most_similar` (Method will be removed in 4.0.0, use self.wv.most_similar() instead).\n",
      "  \"\"\"Entry point for launching an IPython kernel.\n"
     ]
    }
   ],
   "source": [
    "result = model.most_similar(['Анна', 'Каренина'], topn=5)\n",
    "print(result)"
   ]
  },
  {
   "cell_type": "code",
   "execution_count": null,
   "metadata": {},
   "outputs": [],
   "source": []
  }
 ],
 "metadata": {
  "kernelspec": {
   "display_name": "Python 3",
   "language": "python",
   "name": "python3"
  },
  "language_info": {
   "codemirror_mode": {
    "name": "ipython",
    "version": 3
   },
   "file_extension": ".py",
   "mimetype": "text/x-python",
   "name": "python",
   "nbconvert_exporter": "python",
   "pygments_lexer": "ipython3",
   "version": "3.7.4"
  }
 },
 "nbformat": 4,
 "nbformat_minor": 2
}
