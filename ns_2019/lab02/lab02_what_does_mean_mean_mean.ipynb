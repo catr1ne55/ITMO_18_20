{
 "cells": [
  {
   "cell_type": "markdown",
   "metadata": {},
   "source": [
    "Кабанова Е. R42951  \n",
    "Лабораторная работа №2  \n",
    "Вот что значит плохое среднее  "
   ]
  },
  {
   "cell_type": "code",
   "execution_count": 45,
   "metadata": {},
   "outputs": [],
   "source": [
    "import numpy as np\n",
    "import matplotlib.pyplot as plt"
   ]
  },
  {
   "cell_type": "code",
   "execution_count": 46,
   "metadata": {},
   "outputs": [],
   "source": [
    "base = 10 # параметр, может принимать любые целые значения > 1\n",
    "\n",
    "def exact_sum(K):\n",
    "    \"\"\"Точное значение суммы всех элементов.\"\"\"\n",
    "    return 1.\n",
    "\n",
    "def samples(K):\n",
    "    \"\"\"\"Элементы выборки\".\"\"\"\n",
    "    # создаем K частей из base^k одинаковых значений\n",
    "    parts = [np.full((base**k,), float(base)**(-k)/K) for k in range(0, K)] \n",
    "    # создаем выборку объединяя части\n",
    "    samples = np.concatenate(parts) \n",
    "    # перемешиваем элементы выборки и возвращаем\n",
    "    return np.random.permutation(samples)\n",
    "\n",
    "def direct_sum(x):\n",
    "    \"\"\"Последовательная сумма всех элементов вектора x\"\"\"\n",
    "    s = 0.\n",
    "    for e in x: \n",
    "        s += e\n",
    "    return s\n",
    "\n",
    "def number_of_samples(K):\n",
    "    \"\"\"Число элементов в выборке\"\"\"\n",
    "    return np.sum([base**k for k in range(0, K)])\n",
    "\n",
    "def exact_mean(K):\n",
    "    \"\"\"Значение среднего арифметического по выборке с близкой к машинной точностью.\"\"\"\n",
    "    return 1./number_of_samples(K)\n",
    "\n",
    "def exact_variance(K):\n",
    "    \"\"\"Значение оценки дисперсии с близкой к машинной точностью.\"\"\"\n",
    "    # разные значения элементов выборки\n",
    "    values = np.asarray([float(base)**(-k)/K for k in range(0, K)], dtype=np.double)\n",
    "    # сколько раз значение встречается в выборке\n",
    "    count = np.asarray([base**k for k in range(0, K)])\n",
    "    return np.sum(count*(values-exact_mean(K))**2)/number_of_samples(K)"
   ]
  },
  {
   "cell_type": "code",
   "execution_count": 47,
   "metadata": {},
   "outputs": [
    {
     "name": "stdout",
     "output_type": "stream",
     "text": [
      "Число элементов: 1111111\n",
      "Самое маленькое и большое значения: 1.4285714285714285e-07 0.14285714285714285\n",
      "Погрешность прямого суммирования: 1.827538120802071e-11\n"
     ]
    }
   ],
   "source": [
    "K = 7 # число слагаемых\n",
    "x = samples(K) # сохраняем выборку в массив\n",
    "print(\"Число элементов:\", len(x))\n",
    "print(\"Самое маленькое и большое значения:\", np.min(x), np.max(x))\n",
    "\n",
    "exact_sum_for_x = exact_sum(K) # значение суммы с близкой к машинной погрешностью\n",
    "direct_sum_for_x = direct_sum(x) # сумма всех элементов по порядку\n",
    "\n",
    "def relative_error(x0, x):\n",
    "    \"\"\"Погрешность x при точном значении x0\"\"\"\n",
    "    return np.abs(x0-x)/np.abs(x)\n",
    "\n",
    "print(\"Погрешность прямого суммирования:\", relative_error(exact_sum_for_x, direct_sum_for_x))"
   ]
  },
  {
   "cell_type": "code",
   "execution_count": 48,
   "metadata": {},
   "outputs": [
    {
     "name": "stdout",
     "output_type": "stream",
     "text": [
      "Погрешность суммирования по возрастанию: 1.0016432128178195e-12\n"
     ]
    }
   ],
   "source": [
    "sorted_x=x[np.argsort(x)]\n",
    "sorted_sum_for_x=direct_sum(sorted_x)\n",
    "print(\"Погрешность суммирования по возрастанию:\", relative_error(exact_sum_for_x, sorted_sum_for_x))"
   ]
  },
  {
   "cell_type": "code",
   "execution_count": 49,
   "metadata": {},
   "outputs": [
    {
     "name": "stdout",
     "output_type": "stream",
     "text": [
      "Погрешность суммирования по убыванию: 3.864975006557192e-11\n"
     ]
    }
   ],
   "source": [
    "sorted_x=x[np.argsort(x)[::-1]]\n",
    "sorted_sum_for_x=direct_sum(sorted_x)\n",
    "print(\"Погрешность суммирования по убыванию:\", relative_error(exact_sum_for_x, sorted_sum_for_x))"
   ]
  },
  {
   "cell_type": "code",
   "execution_count": 50,
   "metadata": {},
   "outputs": [
    {
     "name": "stdout",
     "output_type": "stream",
     "text": [
      "Погрешность суммирования по Кэхэну: 0.0\n"
     ]
    }
   ],
   "source": [
    "def Kahan_sum(x):\n",
    "    s = 0.0 # частичная сумма\n",
    "    c = 0.0 # сумма погрешностей\n",
    "    for i in x:\n",
    "        y = i - c      # первоначально y равно следующему элементу последовательности\n",
    "        t = s + y      # сумма s может быть велика, поэтому младшие биты y будут потеряны\n",
    "        c = (t - s) - y  # (t-s) отбрасывает старшие биты, вычитание y восстанавливает младшие биты\n",
    "        s = t        # новое значение старших битов суммы\n",
    "    return s\n",
    "\n",
    "Kahan_sum_for_x = Kahan_sum(x) # сумма всех элементов по порядку\n",
    "print(\"Погрешность суммирования по Кэхэну:\", relative_error(exact_sum_for_x, Kahan_sum_for_x))"
   ]
  },
  {
   "cell_type": "code",
   "execution_count": 51,
   "metadata": {},
   "outputs": [],
   "source": [
    "# параметры выборки\n",
    "mean = 1e6 # среднее\n",
    "delta = 1e-5 # величина отклонения от среднего\n",
    "\n",
    "def samples(N_over_two):\n",
    "    \"\"\"Генерирует выборку из 2*N_over_two значений с данным средним и среднеквадратическим \n",
    "    отклонением.\"\"\"\n",
    "    x = np.full((2*N_over_two,), mean, dtype=np.double)\n",
    "    x[:N_over_two] += delta\n",
    "    x[N_over_two:] -= delta\n",
    "    return np.random.permutation(x)\n",
    "\n",
    "def exact_mean():\n",
    "    \"\"\"Значение среднего арифметического по выборке с близкой к машинной точностью.\"\"\"\n",
    "    return mean\n",
    "\n",
    "def exact_variance():\n",
    "    \"\"\"Значение оценки дисперсии с близкой к машинной точностью.\"\"\"\n",
    "    return delta**2\n",
    "\n",
    "x = samples(1000000)"
   ]
  },
  {
   "cell_type": "code",
   "execution_count": 35,
   "metadata": {},
   "outputs": [
    {
     "name": "stdout",
     "output_type": "stream",
     "text": [
      "Размер выборки: 2000000\n",
      "Среднее значение: 1000000.0\n",
      "Оценка дисперсии: 1.0000000000000002e-10\n",
      "Ошибка среднего для встроенной функции: 0.0\n",
      "Ошибка дисперсии для встроенной функции: 8.054126276826362e-06\n"
     ]
    }
   ],
   "source": [
    "print(\"Размер выборки:\", len(x))\n",
    "print(\"Среднее значение:\", exact_mean())\n",
    "print(\"Оценка дисперсии:\", exact_variance())\n",
    "print(\"Ошибка среднего для встроенной функции:\",relative_error(exact_mean(),np.mean(x)))\n",
    "print(\"Ошибка дисперсии для встроенной функции:\",relative_error(exact_variance(),np.var(x)))"
   ]
  },
  {
   "cell_type": "code",
   "execution_count": 52,
   "metadata": {},
   "outputs": [
    {
     "name": "stdout",
     "output_type": "stream",
     "text": [
      "Ошибка среднего для последовательного суммирования: 2.444721758365625e-15\n"
     ]
    }
   ],
   "source": [
    "def direct_mean(x):\n",
    "    \"\"\"Среднее через последовательное суммирование.\"\"\"\n",
    "    return direct_sum(x)/len(x)\n",
    "\n",
    "print(\"Ошибка среднего для последовательного суммирования:\",relative_error(exact_mean(),direct_mean(x)))"
   ]
  },
  {
   "cell_type": "code",
   "execution_count": 53,
   "metadata": {},
   "outputs": [
    {
     "name": "stdout",
     "output_type": "stream",
     "text": [
      "Ошибка второй оценки дисперсии для последовательного суммирования: 0.9999999887780823\n",
      "Ошибка второй оценки дисперсии для однопроходного суммирования: 0.9999999917252526\n"
     ]
    }
   ],
   "source": [
    "def direct_second_var(x):\n",
    "    \"\"\"Вторая оценка дисперсии через последовательное суммирование.\"\"\"\n",
    "    return direct_mean(x**2) - direct_mean(x)**2\n",
    "\n",
    "def online_second_var(x):\n",
    "    \"\"\"Вторая оценка дисперсии через один проход по выборке\"\"\"\n",
    "    m = x[0] # накопленное среднее \n",
    "    m2 = x[0]**2 # накопленное среднее квадратов\n",
    "    for n in range(1, len(x)):\n",
    "        m = (m * (n - 1) + x[n])/n\n",
    "        m2 = (m2 * (n - 1) + x[n]**2)/n\n",
    "    return m2 - m**2\n",
    "\n",
    "print(\"Ошибка второй оценки дисперсии для последовательного суммирования:\",relative_error(exact_variance(),direct_second_var(x)))\n",
    "print(\"Ошибка второй оценки дисперсии для однопроходного суммирования:\",relative_error(exact_variance(),online_second_var(x)))"
   ]
  },
  {
   "cell_type": "code",
   "execution_count": 54,
   "metadata": {},
   "outputs": [],
   "source": [
    "import math\n",
    "def exact_sum_sin(K):\n",
    "    return .5 * (np.sin(K) - np.cos(.5) / np.sin(.5) * np.cos(K) + np.cos(.5) / np.sin(.5)) / K\n",
    "\n",
    "def samples_sin(N):\n",
    "    global x, y\n",
    "    samples_sin=[np.sin(i)/N for i in range(1, N+1)]\n",
    "    y = sorted(samples_sin, key=abs)  \n",
    "    x = np.random.permutation(samples_sin)"
   ]
  },
  {
   "cell_type": "code",
   "execution_count": 55,
   "metadata": {},
   "outputs": [
    {
     "name": "stdout",
     "output_type": "stream",
     "text": [
      "По порядку 0.9999999285714287\n",
      "Сортировка по возрастанию 0.9999999285714287\n",
      "Алгоритм Кэхэна 0.9999999285714287\n"
     ]
    }
   ],
   "source": [
    "K = 7\n",
    "\n",
    "direct = []\n",
    "Kahan = []\n",
    "sorted_data = []\n",
    "\n",
    "for i in range(10):\n",
    "    x = samples(K)\n",
    "    exact_sum_for_x = exact_sum(K) # значение суммы с близкой к машинной погрешностью\n",
    "    direct_sum_for_x = direct_sum(x) # сумма всех элементов по порядку\n",
    "    sorted_x = x[np.argsort(x)]\n",
    "    sorted_sum_for_x = direct_sum(sorted_x)\n",
    "    Kahan_sum_for_x = Kahan_sum(x)\n",
    "    \n",
    "    direct.append(relative_error(exact_sum_for_x, direct_sum_for_x))\n",
    "    Kahan.append(relative_error(exact_sum_for_x, Kahan_sum_for_x))\n",
    "    sorted_data.append(relative_error(exact_sum_for_x, sorted_sum_for_x))\n",
    "    \n",
    "forward = sum(direct)/len(direct)\n",
    "sorted_alg = sum(sorted_data)/len(sorted_data)\n",
    "Kahan_alg = sum(Kahan)/len(Kahan)\n",
    "    \n",
    "print(\"По порядку\", forward)\n",
    "print(\"Сортировка по возрастанию\", sorted_alg)\n",
    "print(\"Алгоритм Кэхэна\", Kahan_alg)"
   ]
  },
  {
   "cell_type": "code",
   "execution_count": 56,
   "metadata": {},
   "outputs": [
    {
     "name": "stdout",
     "output_type": "stream",
     "text": [
      "По порядку 1.2123600479694572e-10\n",
      "Сортировка по возрастанию 7.98980699508693e-09\n",
      "Алгоритм Кэхэна 2.5180409699682606e-13\n",
      "Алгоритм Кэхэна с сортировкой по возрастанию 0.05000000000017677\n",
      "Алгоритм Кэхэна с сортировкой по возрастанию абсолютных значений 1.856802348933412e-13\n"
     ]
    }
   ],
   "source": [
    "step = 20\n",
    "N = 1000000\n",
    "\n",
    "x=[]\n",
    "y=[]\n",
    "\n",
    "direct = []\n",
    "Kahan = []\n",
    "Kahan_sorted = []\n",
    "Kahan_sorted_abs = []\n",
    "sorted_data = []\n",
    "\n",
    "for i in range(step):    \n",
    "    samples_sin(N)\n",
    "    \n",
    "    exact_sum_for_x=exact_sum_sin(N) # значение суммы с близкой к машинной погрешностью    \n",
    "    direct_sum_for_x=direct_sum(x) # сумма всех элементов по порядку\n",
    "    Kahan_sum_for_x=Kahan_sum(x)\n",
    "    Kahan_sorted_x = Kahan_sum(sorted_x)\n",
    "    Kahan_sum_abs_sorted=Kahan_sum(y)\n",
    "    sorted_x=x[np.argsort(x)]\n",
    "    sorted_sum_for_x=direct_sum(sorted_x)\n",
    "\n",
    "    direct.append(relative_error(exact_sum_for_x, direct_sum_for_x))\n",
    "    sorted_data.append(relative_error(exact_sum_for_x, sorted_sum_for_x))\n",
    "    Kahan.append(relative_error(exact_sum_for_x, Kahan_sum_for_x))    \n",
    "    Kahan_sorted.append(relative_error(exact_sum_for_x, Kahan_sorted_x))\n",
    "    Kahan_sorted_abs.append(relative_error(exact_sum_for_x, Kahan_sum_abs_sorted))\n",
    "    \n",
    "Kahan_alg = sum(Kahan)/len(Kahan)\n",
    "Kahan_alg_sorted = sum(Kahan_sorted)/len(Kahan_sorted)\n",
    "Kahan_alg_sorted_abs = sum(Kahan_sorted_abs)/len(Kahan_sorted_abs)\n",
    "sorted_alg = sum(sorted_data)/len(sorted_data)\n",
    "forward = sum(direct)/len(direct)\n",
    "\n",
    "print(\"По порядку\", forward)\n",
    "print(\"Сортировка по возрастанию\", sorted_alg)\n",
    "print(\"Алгоритм Кэхэна\", Kahan_alg)\n",
    "print(\"Алгоритм Кэхэна с сортировкой по возрастанию\", Kahan_alg_sorted)\n",
    "print(\"Алгоритм Кэхэна с сортировкой по возрастанию абсолютных значений\", Kahan_alg_sorted_abs)"
   ]
  },
  {
   "cell_type": "code",
   "execution_count": null,
   "metadata": {},
   "outputs": [],
   "source": []
  }
 ],
 "metadata": {
  "kernelspec": {
   "display_name": "Python 3",
   "language": "python",
   "name": "python3"
  },
  "language_info": {
   "codemirror_mode": {
    "name": "ipython",
    "version": 3
   },
   "file_extension": ".py",
   "mimetype": "text/x-python",
   "name": "python",
   "nbconvert_exporter": "python",
   "pygments_lexer": "ipython3",
   "version": "3.7.4"
  }
 },
 "nbformat": 4,
 "nbformat_minor": 2
}
